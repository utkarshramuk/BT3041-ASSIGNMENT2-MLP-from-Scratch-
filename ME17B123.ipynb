{
 "cells": [
  {
   "cell_type": "markdown",
   "metadata": {
    "id": "I6BAJjeSh1P-"
   },
   "source": [
    "## Assignment2\n",
    "\n",
    "### BT3041 – Analysis and Interpretation of Biological Data\n",
    "---\n",
    "### Name: Utkarsh Kumar\n",
    "### Roll No: ME17B123"
   ]
  },
  {
   "cell_type": "code",
   "execution_count": 18,
   "metadata": {
    "executionInfo": {
     "elapsed": 2338,
     "status": "ok",
     "timestamp": 1619268442723,
     "user": {
      "displayName": "Bokil Sujay Girish me17b120",
      "photoUrl": "",
      "userId": "04526647828027613798"
     },
     "user_tz": -330
    },
    "id": "eec9WLKnh1QG"
   },
   "outputs": [],
   "source": [
    "# import necessary libraries\n",
    "from copy import deepcopy\n",
    "import numpy as np \n",
    "import matplotlib.pyplot as plt\n",
    "from sklearn.model_selection import ParameterGrid\n",
    "\n",
    "from sklearn.model_selection import train_test_split"
   ]
  },
  {
   "cell_type": "markdown",
   "metadata": {
    "id": "T2galO3_h1QH"
   },
   "source": [
    "## Template Classes"
   ]
  },
  {
   "cell_type": "code",
   "execution_count": 2,
   "metadata": {
    "executionInfo": {
     "elapsed": 3402,
     "status": "ok",
     "timestamp": 1619268444335,
     "user": {
      "displayName": "Bokil Sujay Girish me17b120",
      "photoUrl": "",
      "userId": "04526647828027613798"
     },
     "user_tz": -330
    },
    "id": "V6RNgnahh1QH"
   },
   "outputs": [],
   "source": [
    "class AutoDiffFunction():\n",
    "    \"\"\"Format for any function in general which has to be auto-differentiable\n",
    "    \"\"\"\n",
    "\n",
    "    def __init__(self, *args, **kwds) -> None:\n",
    "        self.saved_for_backward = {} # caching to save computation\n",
    "        self.grad = {} # holds gradients\n",
    "\n",
    "    def __call__(self, *args, **kwds):\n",
    "        \n",
    "        # performs one forward and backward pass in each call\n",
    "        output = self.forward(*args, **kwds)\n",
    "        self.grad = self.compute_grad(*args, **kwds)\n",
    "        return output\n",
    "\n",
    "    def forward(self, *args, **kwds):\n",
    "        \"\"\"Calculates a forward pass\n",
    "        \"\"\"\n",
    "        pass\n",
    "\n",
    "    def compute_grad(self, *args, **kwds):\n",
    "        \"\"\"Computes local gradient of that function itself w.r.t its input\n",
    "        \"\"\"\n",
    "        pass\n",
    "\n",
    "    def backward(self, *args, **kwds):\n",
    "        \"\"\"Computes actual gradient w.r.t. the loss after chained gradients ahead \n",
    "            of the function till the loss are passed \n",
    "        \"\"\"\n",
    "        pass\n",
    "\n",
    "\n",
    "class Layer(AutoDiffFunction):\n",
    "    \"\"\"Format to create your own custom layer for the model\n",
    "    \"\"\"\n",
    "    def __init__(self, *args, **kwds) -> None:\n",
    "        super().__init__(*args, **kwds)\n",
    "\n",
    "        self.weights = {} # holds weights of the layer\n",
    "        self.optimizer = None # optimizer for the layer\n",
    "\n",
    "    def initialize_weights(self, *args, **kwds):\n",
    "        \"\"\"Initialize weights for the layer\n",
    "        \"\"\"\n",
    "        pass\n",
    "\n",
    "    def update_weights(self):\n",
    "        \"\"\"Updates weights of the layer using layer's assigned optimizer\n",
    "        \"\"\"\n",
    "        self.optimizer.step(self)\n",
    "\n",
    "\n",
    "class Loss(AutoDiffFunction):\n",
    "    \"\"\"Format to create a custom loss function\n",
    "    \"\"\"\n",
    "\n",
    "    def forward(self, y_true, y_pred):\n",
    "        \"\"\"Calculates a forward pass\n",
    "        \"\"\"\n",
    "        pass \n",
    "\n",
    "    def backward(self):\n",
    "        \"\"\"Computes actual gradient w.r.t. the loss after chained gradients ahead \n",
    "            of the function till the loss are passed \n",
    "        \"\"\"\n",
    "        return self.grad[\"x\"]\n",
    "\n",
    "    def compute_grad(self, y_true, y_pred):\n",
    "        \"\"\"Computes local gradient of that function itself w.r.t its input\n",
    "        \"\"\"\n",
    "        pass\n",
    "\n",
    "\n",
    "class Optimizer():\n",
    "    \"\"\"Format to create a custom optimizer\n",
    "    \"\"\"\n",
    "    def __init__(self, *args, **kwds):\n",
    "        self.remember = {} # remembering parameters from last iteration\n",
    "        pass\n",
    "\n",
    "    def step(self, layer):\n",
    "        \"\"\"Performs the update step for weights of the optmizer\n",
    "\n",
    "        Args:\n",
    "            layer: Layer object assigned to the optimizer \n",
    "        \"\"\"\n",
    "        pass    "
   ]
  },
  {
   "cell_type": "markdown",
   "metadata": {
    "id": "c6A8TJZqh1QJ"
   },
   "source": [
    "## Activation Functions\n",
    "\n",
    "For this assignment we implement the following activation functions:\n",
    "\n",
    "1. Sigmoid activation\n",
    "\n",
    "$$y = \\sigma(x) = \\frac{1}{1 + e^{-x}}$$\n",
    "\n",
    "$$\\frac{dy}{dx} = \\frac{-e^{-x}}{(1 + e^{-x})^2} = \\sigma(x)(1 - \\sigma(x))$$\n",
    "\n",
    "2. ReLU activation\n",
    "\n",
    "$$y = ReLU(x) = max(0, x)$$\n",
    "\n",
    "$$ \\frac{dy}{dx} = \\left\\{\n",
    "\\begin{array}{ll}\n",
    "      1 & x\\geq 0\\\\\n",
    "      0 & x\\leq 0 \\\\\n",
    "\\end{array} \n",
    "\\right.$$\n"
   ]
  },
  {
   "cell_type": "code",
   "execution_count": 3,
   "metadata": {
    "executionInfo": {
     "elapsed": 3099,
     "status": "ok",
     "timestamp": 1619268444340,
     "user": {
      "displayName": "Bokil Sujay Girish me17b120",
      "photoUrl": "",
      "userId": "04526647828027613798"
     },
     "user_tz": -330
    },
    "id": "8yTT6tS0h1QK"
   },
   "outputs": [],
   "source": [
    "class Sigmoid(AutoDiffFunction):\n",
    "    \"\"\" \n",
    "    Represents the Sigmoid Activation function\n",
    "    \"\"\"\n",
    "    def __init__(self) -> None:\n",
    "        super().__init__()\n",
    "\n",
    "    def forward(self, x):\n",
    "        self.saved_for_backward = 1/(1 + np.exp(-x))\n",
    "        return self.saved_for_backward\n",
    "\n",
    "    def compute_grad(self, x):\n",
    "        y = self.saved_for_backward\n",
    "\n",
    "        return {\"x\": y*(1-y)}\n",
    "\n",
    "    def backward(self, dy):\n",
    "        return dy * self.grad[\"x\"]      \n",
    "\n",
    "\n",
    "class RelU(AutoDiffFunction):\n",
    "    \"\"\" \n",
    "    Represents the RelU Activation function\n",
    "    \"\"\"\n",
    "    def __init__(self) -> None:\n",
    "        super().__init__()\n",
    "\n",
    "    def forward(self, x):\n",
    "        self.saved_for_backward = np.where(x>0.0, 1.0, 0.0)\n",
    "\n",
    "        return x * self.saved_for_backward\n",
    "\n",
    "    def compute_grad(self, x):\n",
    "        return {\"x\": self.saved_for_backward}\n",
    "\n",
    "    def backward(self, dy):\n",
    "        return dy * self.grad[\"x\"]"
   ]
  },
  {
   "cell_type": "markdown",
   "metadata": {
    "id": "OP9KCSomh1QL"
   },
   "source": [
    "## Layers\n",
    "\n",
    "For this assignment, we only use fully connected OR Dense layers where each input neuron is connected to each output neuron, along with a bias unit.\n",
    "\n",
    "The equation for such a layer is simply\n",
    "\n",
    "$$y = FullyConnected(x) = wx + b$$\n",
    "\n",
    "$$\\frac{dy}{dw} = x^T \\quad\\frac{dy}{dx} = w^T  \\quad\\frac{dy}{db} = 1$$\n",
    "\n",
    "<br><br>\n",
    "Note: We have also created the fully connected layer such that the weights can be initialized 2 different ways\n"
   ]
  },
  {
   "cell_type": "code",
   "execution_count": 4,
   "metadata": {
    "executionInfo": {
     "elapsed": 4499,
     "status": "ok",
     "timestamp": 1619268446075,
     "user": {
      "displayName": "Bokil Sujay Girish me17b120",
      "photoUrl": "",
      "userId": "04526647828027613798"
     },
     "user_tz": -330
    },
    "id": "akmV1X1eh1QM"
   },
   "outputs": [],
   "source": [
    "class FC(Layer):\n",
    "    def __init__(self, in_dim, out_dim, weight_decay=None, init_method=\"xavier\") -> None:\n",
    "        super().__init__()\n",
    "        self.weight_decay = weight_decay\n",
    "        self.init_method = init_method\n",
    "        self.initialize_weights(in_dim, out_dim)\n",
    "\n",
    "    def initialize_weights(self, in_dim, out_dim):\n",
    "        \n",
    "        if self.init_method == \"random\":\n",
    "            scaling_factor = 1/np.sqrt(in_dim)\n",
    "            self.weights[\"w\"] = np.random.randn(in_dim, out_dim) * scaling_factor\n",
    "            self.weights[\"b\"] = np.random.randn(1, out_dim) * scaling_factor\n",
    "        elif self.init_method == \"xavier\":\n",
    "            lim = np.sqrt(6 / (in_dim + out_dim))\n",
    "            self.weights[\"w\"] = np.random.uniform(low=-lim, high=lim, size=(in_dim, out_dim))\n",
    "            self.weights[\"b\"] = np.random.uniform(low=-lim, high=lim, size=(1, out_dim))\n",
    "\n",
    "    def compute_grad(self, x):\n",
    "        \n",
    "        gradients = {}\n",
    "\n",
    "        # y = x * w + b        \n",
    "        # we compute gradients wrt w and x \n",
    "        # gradient wrt b is not required explicitly since we know that it's value is 1\n",
    "        gradients[\"w\"] = self.saved_for_backward[\"x\"].T\n",
    "        gradients[\"x\"] = self.weights[\"w\"].T\n",
    "\n",
    "        return gradients\n",
    "\n",
    "\n",
    "    def forward(self, x):\n",
    "        output = x @ self.weights[\"w\"] + self.weights[\"b\"]\n",
    "        self.saved_for_backward[\"x\"] = x\n",
    "        \n",
    "        return output\n",
    "\n",
    "    def backward(self, dy):\n",
    "        \n",
    "        # calculating gradients wrt input to pass on to previous layer for backprop\n",
    "        dx = dy @ self.grad[\"x\"]\n",
    "        \n",
    "        # calculating gradients wrt weights\n",
    "        dw = self.grad[\"w\"] @ dy\n",
    "        db = np.sum(dy, axis=0, keepdims=True)\n",
    "\n",
    "        # accomodating for weight_decay / L2 regularization\n",
    "        if self.weight_decay:\n",
    "            dw = dw + 2 * self.weight_decay * self.weights[\"w\"]\n",
    "            db = db + 2 * self.weight_decay * self.weights[\"b\"]\n",
    "\n",
    "        self.absolute_gradients = {\"w\": dw, \"b\": db}\n",
    "\n",
    "        return dx\n",
    "\n",
    "    def update_weights(self):\n",
    "        self.optimizer.step(self)"
   ]
  },
  {
   "cell_type": "markdown",
   "metadata": {
    "id": "rMBTGiI0h1QN"
   },
   "source": [
    "## Loss Functions\n",
    "\n",
    "\n",
    "\n",
    "#### CrossEntropy Loss\n",
    "\n",
    "$$L(p, y) = \\Sigma_{i=1}^{N} \\Sigma_{k=1}^{K} y_{ik} \\log p_{ik}$$ \n",
    "\n",
    "where $$y_{ik} = \\left\\{\n",
    "\\begin{array}{ll}\n",
    "      1 & x \\in class-k\\\\\n",
    "      0 & else \\\\\n",
    "\\end{array} \n",
    "\\right.$$\n",
    "\n",
    "$p_{ik} =$ probability that $i^{th}$ sample falls in $k^{th}$ class\n",
    "\n",
    "#### Softmax function.\n",
    "\n",
    "$ f: [x_1, x_2, ... x_k] \\rightarrow [p_1, p_2, ... p_k]$ such that $p_i = \\frac{e^{x_i}}{\\Sigma_{k=1}^{K} e^{x_i}}$\n",
    "\n",
    "To find the derivative of loss w.r.t input we have apply the chain rule. Let $p(x)$ represent the softmax activation and $L$ represent the loss. Then the expression turns out to be:\n",
    "\n",
    "$$\\frac{\\partial L}{\\partial x} = \\frac{\\partial L(p, y)}{\\partial p} \\frac{\\partial p(x)}{\\partial x} = p - y$$"
   ]
  },
  {
   "cell_type": "code",
   "execution_count": 5,
   "metadata": {
    "executionInfo": {
     "elapsed": 4188,
     "status": "ok",
     "timestamp": 1619268446077,
     "user": {
      "displayName": "Bokil Sujay Girish me17b120",
      "photoUrl": "",
      "userId": "04526647828027613798"
     },
     "user_tz": -330
    },
    "id": "b0Bsyya2h1QO"
   },
   "outputs": [],
   "source": [
    "# CROSSENTROPY LOSS\n",
    "class CrossEntropyLossFromLogits(Loss):\n",
    "    def __init__(self) -> None:\n",
    "        super().__init__()\n",
    "        self.n_classes = None\n",
    "\n",
    "    @staticmethod\n",
    "    def softmax(x):\n",
    "        v = np.exp(x)\n",
    "        return v / np.sum(v, axis=1, keepdims=True)\n",
    "\n",
    "    def encode(self, y): \n",
    "        encoded_y = np.zeros(shape=(len(y), self.n_classes))\n",
    "\n",
    "        for i in range(len(y)):\n",
    "            encoded_y[i,y[i]] = 1\n",
    "\n",
    "        return encoded_y\n",
    "\n",
    "    def forward(self, y_pred, y_true):\n",
    "         \n",
    "        probabilities = self.softmax(y_pred)\n",
    "        y_true_encoded = self.encode(y_true)\n",
    "\n",
    "        loss_value = np.mean(np.sum(- y_true_encoded * np.log(probabilities), axis=1))\n",
    "\n",
    "        self.saved_for_backward[\"probabilities\"] = probabilities\n",
    "        self.saved_for_backward[\"y_true\"] = y_true_encoded\n",
    "\n",
    "        return loss_value\n",
    "\n",
    "    def compute_grad(self, y_pred, y_true):\n",
    "\n",
    "        return {\"x\": self.saved_for_backward[\"probabilities\"] - self.saved_for_backward[\"y_true\"]}        \n"
   ]
  },
  {
   "cell_type": "markdown",
   "metadata": {
    "id": "wve6Wyg1h1QP"
   },
   "source": [
    "## Optimizers/ Learning algorithm\n",
    "\n",
    "Optimizers basically denote how to make use of the gradients achieved through backpropogation to update the weights of the model. The following optimizers are used in this notebook, all made from scratch\n",
    "\n",
    "1) SGD<br>\n",
    "2) Momentum based gradient descent<br>\n",
    "3) Adam<br>\n",
    "\n",
    "All the default parameter values are taken from keras optimizers."
   ]
  },
  {
   "cell_type": "code",
   "execution_count": 6,
   "metadata": {
    "executionInfo": {
     "elapsed": 1006,
     "status": "ok",
     "timestamp": 1619269158842,
     "user": {
      "displayName": "Bokil Sujay Girish me17b120",
      "photoUrl": "",
      "userId": "04526647828027613798"
     },
     "user_tz": -330
    },
    "id": "iRYH9I7gh1QP"
   },
   "outputs": [],
   "source": [
    "# 1. SGD OPTIMIZER\n",
    "class SGD(Optimizer):\n",
    "    def __init__(self, lr=1e-2):\n",
    "        super().__init__()\n",
    "        self.lr = lr\n",
    "\n",
    "    def step(self, layer):\n",
    "\n",
    "        for weight_name, _ in layer.weights.items():\n",
    "            layer.weights[weight_name] = layer.weights[weight_name] - self.lr * layer.absolute_gradients[weight_name]\n",
    "            \n",
    "\n",
    "# 2. MOMENTUM OPTIMIZER\n",
    "class Momentum(Optimizer):\n",
    "    def __init__(self, lr=1e-3, gamma=0.9):\n",
    "        super().__init__()\n",
    "        self.lr = lr\n",
    "        self.gamma = gamma\n",
    "        \n",
    "    def step(self, layer):\n",
    "        \n",
    "        #Initialise update history\n",
    "        if self.remember == {}:\n",
    "            for weight_name, weight in layer.weights.items():\n",
    "                self.remember[weight_name] = {}\n",
    "                self.remember[weight_name][\"v\"] = np.zeros_like(weight)\n",
    "        \n",
    "        #Momentum update rule\n",
    "        for weight_name, weight in layer.weights.items():\n",
    "            self.remember[weight_name][\"v\"] = self.gamma * self.remember[weight_name][\"v\"] + \\\n",
    "                                                self.lr * layer.absolute_gradients[weight_name]\n",
    "            layer.weights[weight_name] = layer.weights[weight_name] - self.remember[weight_name][\"v\"]\n",
    "\n",
    "            \n",
    "            \n",
    "# 3. ADAM OPTIMIZER\n",
    "class Adam(Optimizer):\n",
    "    def __init__(self, lr=1e-3, beta_1=0.9, beta_2=0.999, epsilon=1e-7):\n",
    "        super().__init__()\n",
    "        self.lr = lr\n",
    "        self.beta_1 = beta_1\n",
    "        self.beta_2 = beta_2\n",
    "        self.epsilon = epsilon\n",
    "        self.t = 1\n",
    "        \n",
    "    def step(self, layer):\n",
    "        \n",
    "        #Initialise update history\n",
    "        if self.remember == {}:\n",
    "            for weight_name, weight in layer.weights.items():\n",
    "                self.remember[weight_name] = {}\n",
    "                self.remember[weight_name][\"v\"] = np.zeros_like(weight)\n",
    "                self.remember[weight_name][\"m\"] = np.zeros_like(weight)\n",
    "        \n",
    "        #Adam update rule\n",
    "        for weight_name, weight in layer.weights.items():\n",
    "            \n",
    "            #Update m_t and v_t\n",
    "            self.remember[weight_name][\"m\"] = self.beta_1 * self.remember[weight_name][\"m\"] + \\\n",
    "                                                (1 -self.beta_1) * layer.absolute_gradients[weight_name]\n",
    "            \n",
    "            self.remember[weight_name][\"v\"] = self.beta_2 * self.remember[weight_name][\"v\"] + \\\n",
    "                                                (1 - self.beta_2) * (layer.absolute_gradients[weight_name]**2)\n",
    "            \n",
    "            #Bias correction\n",
    "            m_hat = self.remember[weight_name][\"m\"]/(1 - self.beta_1 ** self.t)\n",
    "            v_hat = self.remember[weight_name][\"v\"]/(1 - self.beta_2 ** self.t)\n",
    "            \n",
    "            #Update parameters\n",
    "            layer.weights[weight_name] = layer.weights[weight_name] - (self.lr / (np.sqrt(v_hat + self.epsilon))) * m_hat\n",
    "            \n",
    "        self.t += 1"
   ]
  },
  {
   "cell_type": "markdown",
   "metadata": {
    "id": "af9O-iz7h1QT"
   },
   "source": [
    "## Framework for the Neural Network"
   ]
  },
  {
   "cell_type": "code",
   "execution_count": 7,
   "metadata": {
    "executionInfo": {
     "elapsed": 3448,
     "status": "ok",
     "timestamp": 1619268446079,
     "user": {
      "displayName": "Bokil Sujay Girish me17b120",
      "photoUrl": "",
      "userId": "04526647828027613798"
     },
     "user_tz": -330
    },
    "id": "anMWBDnsh1QT"
   },
   "outputs": [],
   "source": [
    "class NeuralNet():\n",
    "    def __init__(self, layers) -> None:\n",
    "        self.layers = layers\n",
    "        self.history = []\n",
    "\n",
    "    def __call__(self, *args, **kwds):\n",
    "        return self.forward(*args, **kwds)\n",
    "\n",
    "    def compile(self, loss, optimizer):\n",
    "        self.loss = loss\n",
    "\n",
    "        for layer in self.layers:\n",
    "            if isinstance(layer, Layer):\n",
    "                layer.optimizer = deepcopy(optimizer) # each layer has it's own optimizer\n",
    "\n",
    "    def forward(self, x):\n",
    "        \"\"\"Performs forward pass for the entire network\n",
    "\n",
    "        Args:\n",
    "            x (np.ndarray): input array\n",
    "\n",
    "        Returns:\n",
    "            np.ndarray: output of the neural network\n",
    "        \"\"\"\n",
    "        for layer in self.layers:\n",
    "            x = layer(x)\n",
    "\n",
    "        return x\n",
    "\n",
    "    def backward(self):\n",
    "        \"\"\"Performs one backward pass for the entire network\n",
    "            and saves the gradients\n",
    "\n",
    "        Returns:\n",
    "            np.ndarray: gradient of the 1st layer\n",
    "        \"\"\"\n",
    "\n",
    "        gradient = self.loss.backward()\n",
    "        for layer in reversed(self.layers):\n",
    "            gradient = layer.backward(gradient)\n",
    "\n",
    "        return gradient\n",
    "\n",
    "    def update_weights(self):\n",
    "        \"\"\"Updates weights of all layers using the chosen optimizer \n",
    "            and saved gradients\n",
    "        \"\"\"\n",
    "\n",
    "        for layer in reversed(self.layers):\n",
    "            if isinstance(layer, Layer):\n",
    "                layer.update_weights()\n",
    "\n",
    "    @staticmethod\n",
    "    def accuracy_score(y_pred, y_true):\n",
    "        \"\"\"Returns accuracy score\n",
    "\n",
    "        Args:\n",
    "            y_pred (np.ndarray): predicted labels (batch_size X n_classes)\n",
    "            y_true (np.ndarray): true labels (batch_size X 1)\n",
    "\n",
    "        Returns:\n",
    "            [float]: accuracy in fraction\n",
    "        \"\"\"\n",
    "\n",
    "        pred_labels = np.argmax(y_pred, axis=1)\n",
    "        return np.sum(pred_labels == y_true) / len(y_true)\n",
    "\n",
    "    @staticmethod\n",
    "    def create_batches(X, y, batch_size=32):\n",
    "        \"\"\"Creates batches from given dataset of given size\n",
    "\n",
    "        Args:\n",
    "            X (np.ndarray): input features\n",
    "            y (np.ndarray): labels\n",
    "            batch_size (int, optional): batch size. Defaults to 32.\n",
    "\n",
    "        Returns:\n",
    "            list: batches of data as list of (x,y) tuples\n",
    "        \"\"\"\n",
    "        batches = []\n",
    "\n",
    "        for i in range(len(y) // batch_size):\n",
    "            start_idx = batch_size * i\n",
    "            end_idx = batch_size * (i + 1)\n",
    "\n",
    "            batches.append([X[start_idx: end_idx], y[start_idx: end_idx]])\n",
    "\n",
    "        # take care of the last batch which might have batch_size less than the specified one\n",
    "        if len(y) % batch_size != 0:\n",
    "            batches.append([X[end_idx:], y[end_idx:]])\n",
    "\n",
    "        return batches\n",
    "\n",
    "    def fit(self, X_train, y_train, X_val, y_val, batch_size=32, epochs=10):\n",
    "        \"\"\"Fits the model onto the given data\n",
    "\n",
    "        Args:\n",
    "            X_train (np.ndarray): train features\n",
    "            y_train (np.ndarray): train labels\n",
    "            X_val (np.ndarray): validation features\n",
    "            y_val (np.ndarray): validation labels\n",
    "            batch_size (int, optional): batch size. Defaults to 32.\n",
    "            epochs (int, optional): number of epochs to train the model. Defaults to 10.\n",
    "        \"\"\"\n",
    "\n",
    "        # calculate number of classes to pass to the loss function\n",
    "        self.loss.n_classes = len(np.unique(y_train))\n",
    "\n",
    "        train_batches = self.create_batches(X_train, y_train, batch_size=batch_size)\n",
    "        val_batches = self.create_batches(X_val, y_val, batch_size=batch_size)\n",
    "\n",
    "        num_train_batches = len(train_batches)\n",
    "        num_val_batches = len(val_batches)\n",
    "\n",
    "        for epoch in range(1, epochs+1):\n",
    "\n",
    "            total_train_loss = 0\n",
    "            total_train_accuracy = 0\n",
    "\n",
    "            ## TRAINING ##\n",
    "            for X, y in train_batches:\n",
    "\n",
    "                preds = self(X)\n",
    "                total_train_loss += self.loss(preds, y)\n",
    "                total_train_accuracy += self.accuracy_score(preds, y)\n",
    "\n",
    "                _ = self.backward()\n",
    "                self.update_weights()\n",
    "\n",
    "            train_loss_per_epoch = total_train_loss / num_train_batches\n",
    "            train_accuracy = total_train_accuracy / num_train_batches\n",
    "\n",
    "            total_val_loss = 0\n",
    "            total_val_accuracy = 0\n",
    "\n",
    "            ## VALIDATION ##\n",
    "            for X_v, y_v in val_batches:\n",
    "                val_preds = self(X_v)\n",
    "                total_val_loss += self.loss(val_preds, y_v)\n",
    "                total_val_accuracy += self.accuracy_score(val_preds, y_v)\n",
    "            \n",
    "            val_loss_per_epoch = total_val_loss / num_val_batches\n",
    "            val_accuracy = total_val_accuracy / num_val_batches\n",
    "            \n",
    "            print(f\"Epoch: {epoch} Train Loss: {train_loss_per_epoch} Train Accuracy: {train_accuracy} Val Loss: {val_loss_per_epoch} Val Accuracy: {val_accuracy}\")\n",
    "\n",
    "            self.history.append({\"Epoch\" : epoch, \n",
    "                                    \"Train Loss\": train_loss_per_epoch,\n",
    "                                    \"Train Accuracy\": train_accuracy,\n",
    "                                    \"Val Loss\": val_loss_per_epoch,\n",
    "                                    \"Val Accuracy\": val_accuracy})\n",
    "\n",
    "        print(\"\\nModel trained successfully!\\n\")\n",
    "\n",
    "    def evaluate(self, X_test, y_test):\n",
    "        \"\"\"Evaluates the model on a test dataset\n",
    "\n",
    "        Args:\n",
    "            X_test (np.ndarray): test features \n",
    "            y_test (np.ndarray): test labels\n",
    "        \"\"\"\n",
    "\n",
    "        preds = self(X_test)\n",
    "        test_loss = self.loss(preds, y_test)\n",
    "        accuracy = self.accuracy_score(preds, y_test)\n",
    "\n",
    "        print(f\"Test loss: {test_loss} Test accuracy: {accuracy}\")"
   ]
  },
  {
   "cell_type": "markdown",
   "metadata": {
    "id": "qp8-kqWFh1QU"
   },
   "source": [
    "# Using the framework on MNIST Dataset"
   ]
  },
  {
   "cell_type": "code",
   "execution_count": 8,
   "metadata": {
    "colab": {
     "base_uri": "https://localhost:8080/"
    },
    "executionInfo": {
     "elapsed": 911,
     "status": "ok",
     "timestamp": 1619269195270,
     "user": {
      "displayName": "Bokil Sujay Girish me17b120",
      "photoUrl": "",
      "userId": "04526647828027613798"
     },
     "user_tz": -330
    },
    "id": "QuXBMx6sh1Qa",
    "outputId": "cc32b0ca-eb84-4b9b-ef08-3425e9ec6aa6"
   },
   "outputs": [
    {
     "name": "stdout",
     "output_type": "stream",
     "text": [
      "Training samples: 60000 Test samples: 10000\n"
     ]
    }
   ],
   "source": [
    "# load mnist dataset\n",
    "import tensorflow as tf\n",
    "(x_train, y_train), (x_test, y_test) = tf.keras.datasets.mnist.load_data()\n",
    "#NOTE\n",
    "#tensorflow has only been used to load the data and not for any other application. \n",
    "#This has been done to avoid additional lines of code where data has to be split up in \n",
    "#x_train, x_test etc... \n",
    "\n",
    "import pickle  # a brief on how to load data in pickle format \n",
    "with open('mnist_data.pkl', 'rb') as d:\n",
    "    data=pickle.load(d)\n",
    "\n",
    "# scaling the images by diving with 255 because 255*255 colours are possible\n",
    "x_train, x_test = x_train / 255.0, x_test / 255.0\n",
    "\n",
    "print(f\"Training samples: {len(x_train)} Test samples: {len(x_test)}\")"
   ]
  },
  {
   "cell_type": "code",
   "execution_count": 9,
   "metadata": {
    "executionInfo": {
     "elapsed": 1161,
     "status": "ok",
     "timestamp": 1619269197055,
     "user": {
      "displayName": "Bokil Sujay Girish me17b120",
      "photoUrl": "",
      "userId": "04526647828027613798"
     },
     "user_tz": -330
    },
    "id": "iqvIta2lh1QV"
   },
   "outputs": [],
   "source": [
    "# Utility functions to preprocess image data and plotting\n",
    "\n",
    "def flatten(arr):\n",
    "    arr = arr.reshape(arr.shape[0], -1)\n",
    "    return arr\n",
    "\n",
    "\n",
    "def plot_labels(data, labels, class_names, flatten=False):\n",
    "\n",
    "    uniq_labels = np.unique(labels)\n",
    "\n",
    "    fig, ax = plt.subplots(2,5, figsize=(15, 6))\n",
    "    fig.subplots_adjust(wspace=0.3, hspace=0.3)\n",
    "    ax = ax.reshape(-1)\n",
    "\n",
    "    for i, label in enumerate(uniq_labels):\n",
    "\n",
    "        img = data[np.where(labels == label)[0][0]]\n",
    "\n",
    "        ax[i].set_title(class_names[label])\n",
    "        \n",
    "        if flatten:\n",
    "            img = img.reshape(28, 28)\n",
    "\n",
    "        ax[i].imshow(img)\n",
    "    \n",
    "    plt.show()"
   ]
  },
  {
   "cell_type": "code",
   "execution_count": 10,
   "metadata": {
    "colab": {
     "base_uri": "https://localhost:8080/",
     "height": 383
    },
    "executionInfo": {
     "elapsed": 2923,
     "status": "ok",
     "timestamp": 1619268452634,
     "user": {
      "displayName": "Bokil Sujay Girish me17b120",
      "photoUrl": "",
      "userId": "04526647828027613798"
     },
     "user_tz": -330
    },
    "id": "zX6nmUqgh1Qa",
    "outputId": "0ada2004-422e-4bc8-eae8-c6c58ec65b21"
   },
   "outputs": [
    {
     "data": {
      "image/png": "[encoded data removed]",
      "text/plain": [
       "<Figure size 1080x432 with 10 Axes>"
      ]
     },
     "metadata": {
      "needs_background": "light"
     },
     "output_type": "display_data"
    }
   ],
   "source": [
    "# plotting one image of each class\n",
    "plot_labels(x_train, y_train, class_names=[\"Class\"+str(i) for i in range(10)], flatten=True)"
   ]
  },
  {
   "cell_type": "code",
   "execution_count": 11,
   "metadata": {
    "executionInfo": {
     "elapsed": 929,
     "status": "ok",
     "timestamp": 1619269201289,
     "user": {
      "displayName": "Bokil Sujay Girish me17b120",
      "photoUrl": "",
      "userId": "04526647828027613798"
     },
     "user_tz": -330
    },
    "id": "-4xU_AE_h1QW"
   },
   "outputs": [],
   "source": [
    "## Flatten all images into vectors ##\n",
    "x_train = flatten(x_train)\n",
    "x_test = flatten(x_test)"
   ]
  },
  {
   "cell_type": "code",
   "execution_count": 12,
   "metadata": {
    "executionInfo": {
     "elapsed": 995,
     "status": "ok",
     "timestamp": 1619270421557,
     "user": {
      "displayName": "Bokil Sujay Girish me17b120",
      "photoUrl": "",
      "userId": "04526647828027613798"
     },
     "user_tz": -330
    },
    "id": "bfKVmGksh1QW"
   },
   "outputs": [],
   "source": [
    "def train_and_evaluate_model(activation, optimizer, epochs=10):\n",
    "    ## Creating an instance of the model ##\n",
    "    model = NeuralNet([FC(784, 128), deepcopy(activation),\n",
    "                    FC(128, 128), deepcopy(activation),\n",
    "                    FC(128, 128), deepcopy(activation),\n",
    "                    FC(128, 128), deepcopy(activation),\n",
    "                    FC(128, 10)])\n",
    "\n",
    "    ## Compiling the model with the loss and optimizer chosen ##\n",
    "    model.compile(loss=CrossEntropyLossFromLogits(), optimizer=optimizer)\n",
    "\n",
    "    ## Training the model (TEST RUN) ##\n",
    "    model.fit(x_train, y_train, x_test, y_test, batch_size=128, epochs=epochs)\n",
    "    return model\n",
    "\n",
    "\n",
    "def perform_hyperparameter_tuning(paramter_dict):\n",
    "    models_list = []\n",
    "\n",
    "    for i, config in enumerate(list(ParameterGrid(paramter_dict))):\n",
    "        print(f\"Model {i+1}\\n\")\n",
    "        print(\"-\"*100,\"\\n\")\n",
    "        model = train_and_evaluate_model(**config)\n",
    "        models_list.append(model)\n",
    "\n",
    "    # Sorting it by validation accuracy best models first\n",
    "    return models_list"
   ]
  },
  {
   "cell_type": "code",
   "execution_count": 13,
   "metadata": {
    "colab": {
     "base_uri": "https://localhost:8080/"
    },
    "executionInfo": {
     "elapsed": 225308,
     "status": "ok",
     "timestamp": 1619270649596,
     "user": {
      "displayName": "Bokil Sujay Girish me17b120",
      "photoUrl": "",
      "userId": "04526647828027613798"
     },
     "user_tz": -330
    },
    "id": "WLoMFnzx7dYW",
    "outputId": "8492df57-40be-47df-d74d-61d75239a283"
   },
   "outputs": [
    {
     "name": "stdout",
     "output_type": "stream",
     "text": [
      "Model 1\n",
      "\n",
      "---------------------------------------------------------------------------------------------------- \n",
      "\n",
      "Epoch: 1 Train Loss: 0.4755324445777495 Train Accuracy: 0.8528784648187633 Val Loss: 0.22647755031875405 Val Accuracy: 0.9275118670886076\n",
      "Epoch: 2 Train Loss: 0.16730586283416768 Train Accuracy: 0.9500599680170576 Val Loss: 0.1553234407051527 Val Accuracy: 0.9522349683544303\n",
      "Epoch: 3 Train Loss: 0.11722765384462461 Train Accuracy: 0.9651907871357499 Val Loss: 0.12508168808688877 Val Accuracy: 0.9613330696202531\n",
      "Epoch: 4 Train Loss: 0.08893249312575023 Train Accuracy: 0.9735529939587776 Val Loss: 0.10283207156836134 Val Accuracy: 0.9685522151898734\n",
      "Epoch: 5 Train Loss: 0.07005267476414678 Train Accuracy: 0.9798496357498223 Val Loss: 0.09133304211645121 Val Accuracy: 0.9716178797468354\n",
      "Epoch: 6 Train Loss: 0.05611454376446505 Train Accuracy: 0.9841195806680881 Val Loss: 0.08726180548814197 Val Accuracy: 0.9730023734177216\n",
      "Epoch: 7 Train Loss: 0.04463464301155377 Train Accuracy: 0.9878342661691542 Val Loss: 0.08633226908597148 Val Accuracy: 0.9755735759493671\n",
      "Epoch: 8 Train Loss: 0.03589682726492682 Train Accuracy: 0.9904495380241648 Val Loss: 0.08465854425351373 Val Accuracy: 0.974881329113924\n",
      "Epoch: 9 Train Loss: 0.029660027003044213 Train Accuracy: 0.9924817874911158 Val Loss: 0.08200379721570629 Val Accuracy: 0.9765625\n",
      "Epoch: 10 Train Loss: 0.024675769702095784 Train Accuracy: 0.9935312277896232 Val Loss: 0.08369409363228983 Val Accuracy: 0.975870253164557\n",
      "\n",
      "Model trained successfully!\n",
      "\n",
      "Model 2\n",
      "\n",
      "---------------------------------------------------------------------------------------------------- \n",
      "\n",
      "Epoch: 1 Train Loss: 0.3725635750751379 Train Accuracy: 0.8891202469793887 Val Loss: 0.3042457632521933 Val Accuracy: 0.9207871835443038\n",
      "Epoch: 2 Train Loss: 0.16635779656937216 Train Accuracy: 0.9536247334754797 Val Loss: 0.17607260276505726 Val Accuracy: 0.9471914556962026\n",
      "Epoch: 3 Train Loss: 0.11173084054713675 Train Accuracy: 0.9677283226723525 Val Loss: 0.17534446331673464 Val Accuracy: 0.9539161392405063\n",
      "Epoch: 4 Train Loss: 0.10035591269694762 Train Accuracy: 0.9711542732764749 Val Loss: 0.14542019669947923 Val Accuracy: 0.9625197784810127\n",
      "Epoch: 5 Train Loss: 0.07980329157550807 Train Accuracy: 0.976612473347548 Val Loss: 0.1252930141862691 Val Accuracy: 0.9688488924050633\n",
      "Epoch: 6 Train Loss: 0.06232753097513083 Train Accuracy: 0.9807658137882019 Val Loss: 0.11465931767660408 Val Accuracy: 0.9736946202531646\n",
      "Epoch: 7 Train Loss: 0.059010218765021834 Train Accuracy: 0.9820817786069652 Val Loss: 0.11728924799914642 Val Accuracy: 0.9738924050632911\n",
      "Epoch: 8 Train Loss: 0.053108881822664405 Train Accuracy: 0.9839030294953802 Val Loss: 0.1282308904853831 Val Accuracy: 0.9722112341772152\n",
      "Epoch: 9 Train Loss: 0.04546572999652566 Train Accuracy: 0.9860685412224591 Val Loss: 0.12439633442742108 Val Accuracy: 0.9710245253164557\n",
      "Epoch: 10 Train Loss: 0.0407075565394043 Train Accuracy: 0.9872290334044066 Val Loss: 0.12515167806434982 Val Accuracy: 0.9720134493670886\n",
      "\n",
      "Model trained successfully!\n",
      "\n",
      "Model 3\n",
      "\n",
      "---------------------------------------------------------------------------------------------------- \n",
      "\n",
      "Epoch: 1 Train Loss: 0.3290090440932067 Train Accuracy: 0.9033570984363896 Val Loss: 0.1609828399091117 Val Accuracy: 0.9475870253164557\n",
      "Epoch: 2 Train Loss: 0.1285336863103631 Train Accuracy: 0.961109630419332 Val Loss: 0.12424659809821892 Val Accuracy: 0.9606408227848101\n",
      "Epoch: 3 Train Loss: 0.08799801352009987 Train Accuracy: 0.9731698649609097 Val Loss: 0.11347237544795682 Val Accuracy: 0.9652887658227848\n",
      "Epoch: 4 Train Loss: 0.06267901431868232 Train Accuracy: 0.9806714196872779 Val Loss: 0.14137280835697114 Val Accuracy: 0.9590585443037974\n",
      "Epoch: 5 Train Loss: 0.050392990037173215 Train Accuracy: 0.9844527363184079 Val Loss: 0.11559816866139949 Val Accuracy: 0.9667721518987342\n",
      "Epoch: 6 Train Loss: 0.043184546554775924 Train Accuracy: 0.9858519900497512 Val Loss: 0.12891295412558193 Val Accuracy: 0.9655854430379747\n",
      "Epoch: 7 Train Loss: 0.03969547474397928 Train Accuracy: 0.9871679548685145 Val Loss: 0.1183434696050586 Val Accuracy: 0.969442246835443\n",
      "Epoch: 8 Train Loss: 0.033416775805454976 Train Accuracy: 0.9892335199004975 Val Loss: 0.1145808381532343 Val Accuracy: 0.9709256329113924\n",
      "Epoch: 9 Train Loss: 0.028377963242660013 Train Accuracy: 0.9903662491115849 Val Loss: 0.11220637843881708 Val Accuracy: 0.9731012658227848\n",
      "Epoch: 10 Train Loss: 0.025655463744501023 Train Accuracy: 0.9914656627576404 Val Loss: 0.10601836145614961 Val Accuracy: 0.9751780063291139\n",
      "\n",
      "Model trained successfully!\n",
      "\n",
      "Model 4\n",
      "\n",
      "---------------------------------------------------------------------------------------------------- \n",
      "\n",
      "Epoch: 1 Train Loss: 2.309112870844522 Train Accuracy: 0.10190676083866383 Val Loss: 2.2990105789829927 Val Accuracy: 0.09612341772151899\n",
      "Epoch: 2 Train Loss: 2.303665874679318 Train Accuracy: 0.11024675728500355 Val Loss: 2.2925937874675064 Val Accuracy: 0.14052610759493672\n",
      "Epoch: 3 Train Loss: 2.2854308366026013 Train Accuracy: 0.1411858120113717 Val Loss: 2.241558395204011 Val Accuracy: 0.3474090189873418\n",
      "Epoch: 4 Train Loss: 1.925349405010977 Train Accuracy: 0.3119947139303483 Val Loss: 1.648025094622506 Val Accuracy: 0.3863726265822785\n",
      "Epoch: 5 Train Loss: 1.4785474162212593 Train Accuracy: 0.4450237651030562 Val Loss: 1.2467249680987909 Val Accuracy: 0.537381329113924\n",
      "Epoch: 6 Train Loss: 1.0883180893704836 Train Accuracy: 0.6155328269367448 Val Loss: 0.9539670535548678 Val Accuracy: 0.6859177215189873\n",
      "Epoch: 7 Train Loss: 0.8816738812025285 Train Accuracy: 0.7193885483297797 Val Loss: 0.7879752940730764 Val Accuracy: 0.7641416139240507\n",
      "Epoch: 8 Train Loss: 0.7196355621517118 Train Accuracy: 0.7926883439943141 Val Loss: 0.6059153160401608 Val Accuracy: 0.8337618670886076\n",
      "Epoch: 9 Train Loss: 0.565739091066129 Train Accuracy: 0.8444607320540156 Val Loss: 0.511180200246685 Val Accuracy: 0.8588805379746836\n",
      "Epoch: 10 Train Loss: 0.49213600433645815 Train Accuracy: 0.8665045309168443 Val Loss: 0.4610245036908715 Val Accuracy: 0.8742088607594937\n",
      "\n",
      "Model trained successfully!\n",
      "\n",
      "Model 5\n",
      "\n",
      "---------------------------------------------------------------------------------------------------- \n",
      "\n",
      "Epoch: 1 Train Loss: 1.8928678809031292 Train Accuracy: 0.2911613805970149 Val Loss: 0.8087913714531271 Val Accuracy: 0.7318037974683544\n",
      "Epoch: 2 Train Loss: 0.5241593358595004 Train Accuracy: 0.8428282693674485 Val Loss: 0.3607291796741959 Val Accuracy: 0.8941851265822784\n",
      "Epoch: 3 Train Loss: 0.2990096996732023 Train Accuracy: 0.9146233120113717 Val Loss: 0.2764792549424339 Val Accuracy: 0.9176226265822784\n",
      "Epoch: 4 Train Loss: 0.21174110749290612 Train Accuracy: 0.9395822228144989 Val Loss: 0.19016716212743912 Val Accuracy: 0.9443235759493671\n",
      "Epoch: 5 Train Loss: 0.1597740282957161 Train Accuracy: 0.953213841506752 Val Loss: 0.16266423956153764 Val Accuracy: 0.9527294303797469\n",
      "Epoch: 6 Train Loss: 0.130323617539493 Train Accuracy: 0.9612595504619759 Val Loss: 0.1410790666132308 Val Accuracy: 0.9598496835443038\n",
      "Epoch: 7 Train Loss: 0.1084922592663066 Train Accuracy: 0.9676561389481166 Val Loss: 0.13445532959270146 Val Accuracy: 0.9612341772151899\n",
      "Epoch: 8 Train Loss: 0.09367706074628328 Train Accuracy: 0.9731198916133618 Val Loss: 0.13510224168909546 Val Accuracy: 0.9599485759493671\n",
      "Epoch: 9 Train Loss: 0.08317372311030465 Train Accuracy: 0.9759350568585644 Val Loss: 0.12296507177669691 Val Accuracy: 0.9643987341772152\n",
      "Epoch: 10 Train Loss: 0.07336428999085325 Train Accuracy: 0.978633617626155 Val Loss: 0.11217920833362262 Val Accuracy: 0.9698378164556962\n",
      "\n",
      "Model trained successfully!\n",
      "\n",
      "Model 6\n",
      "\n",
      "---------------------------------------------------------------------------------------------------- \n",
      "\n",
      "Epoch: 1 Train Loss: 0.9622139545555027 Train Accuracy: 0.6924806769722814 Val Loss: 0.3873741540809106 Val Accuracy: 0.8915150316455697\n",
      "Epoch: 2 Train Loss: 0.3030332434659923 Train Accuracy: 0.9153173862828714 Val Loss: 0.2513547388435871 Val Accuracy: 0.9257318037974683\n",
      "Epoch: 3 Train Loss: 0.2062682848196354 Train Accuracy: 0.9411869225302062 Val Loss: 0.1887278672623374 Val Accuracy: 0.9441257911392406\n",
      "Epoch: 4 Train Loss: 0.15774221315546774 Train Accuracy: 0.9545464641080313 Val Loss: 0.1564780681171809 Val Accuracy: 0.9551028481012658\n"
     ]
    },
    {
     "name": "stdout",
     "output_type": "stream",
     "text": [
      "Epoch: 5 Train Loss: 0.12787089864782064 Train Accuracy: 0.9632584843638948 Val Loss: 0.13984657132898257 Val Accuracy: 0.9590585443037974\n",
      "Epoch: 6 Train Loss: 0.10699552625611236 Train Accuracy: 0.9692719438521677 Val Loss: 0.1299151019836618 Val Accuracy: 0.9628164556962026\n",
      "Epoch: 7 Train Loss: 0.09112605973966253 Train Accuracy: 0.9743192519545132 Val Loss: 0.12397156384988398 Val Accuracy: 0.9649920886075949\n",
      "Epoch: 8 Train Loss: 0.07826991009418605 Train Accuracy: 0.9782171730632552 Val Loss: 0.122083953996421 Val Accuracy: 0.9647943037974683\n",
      "Epoch: 9 Train Loss: 0.06736711442234485 Train Accuracy: 0.9815154140014215 Val Loss: 0.12314317581845927 Val Accuracy: 0.9646954113924051\n",
      "Epoch: 10 Train Loss: 0.05797353814280666 Train Accuracy: 0.9840140813788202 Val Loss: 0.12510229308560294 Val Accuracy: 0.9644976265822784\n",
      "\n",
      "Model trained successfully!\n",
      "\n"
     ]
    }
   ],
   "source": [
    "params = { \"activation\": [RelU(), Sigmoid()],\n",
    "          \"optimizer\": [SGD(lr=1e-3), Momentum(), Adam()] # default sgd learning rate is too fast \n",
    "\n",
    "}\n",
    "\n",
    "models = perform_hyperparameter_tuning(params)"
   ]
  },
  {
   "cell_type": "code",
   "execution_count": 14,
   "metadata": {
    "executionInfo": {
     "elapsed": 909,
     "status": "ok",
     "timestamp": 1619270803480,
     "user": {
      "displayName": "Bokil Sujay Girish me17b120",
      "photoUrl": "",
      "userId": "04526647828027613798"
     },
     "user_tz": -330
    },
    "id": "Elh-bcv4DiPI"
   },
   "outputs": [],
   "source": [
    "# Sorting the models according to their performances\n",
    "models.sort(key=lambda x: x.history[-1][\"Val Accuracy\"], reverse=True)"
   ]
  },
  {
   "cell_type": "code",
   "execution_count": 15,
   "metadata": {
    "colab": {
     "base_uri": "https://localhost:8080/"
    },
    "executionInfo": {
     "elapsed": 1135,
     "status": "ok",
     "timestamp": 1619271081578,
     "user": {
      "displayName": "Bokil Sujay Girish me17b120",
      "photoUrl": "",
      "userId": "04526647828027613798"
     },
     "user_tz": -330
    },
    "id": "ft9ElEx4EiCH",
    "outputId": "04a8bf54-83b1-4f84-c25b-faa9efdadf1e"
   },
   "outputs": [
    {
     "name": "stdout",
     "output_type": "stream",
     "text": [
      "Best model activation:  <__main__.RelU object at 0x0000018A8A12DD90>\n",
      "Best model optimizer:  <__main__.Adam object at 0x0000018A8A121CD0>\n"
     ]
    }
   ],
   "source": [
    "# Check params for best model #\n",
    "best_model_params = list(ParameterGrid(params))[2]\n",
    "\n",
    "print(\"Best model activation: \", best_model_params[\"activation\"])\n",
    "print(\"Best model optimizer: \", best_model_params[\"optimizer\"])"
   ]
  },
  {
   "cell_type": "code",
   "execution_count": 16,
   "metadata": {
    "executionInfo": {
     "elapsed": 996,
     "status": "ok",
     "timestamp": 1619270823558,
     "user": {
      "displayName": "Bokil Sujay Girish me17b120",
      "photoUrl": "",
      "userId": "04526647828027613798"
     },
     "user_tz": -330
    },
    "id": "BzkXSDACh1Qb"
   },
   "outputs": [],
   "source": [
    "# plotting the metrics for the model #\n",
    "\n",
    "def compare_models_plot(models):\n",
    "    \n",
    "    n = len(models)\n",
    "    model_names = [\"model_\" + str(i+1) for i in range(n)]\n",
    "    \n",
    "    colors = [\"green\", \"blue\", \"red\", \"brown\", \"violet\", \"yellow\"]\n",
    "    titles = [\"Train Loss\", \"Train Accuracy\", \"Val Loss\", \"Val Accuracy\"]\n",
    "    \n",
    "    fig, axs = plt.subplots(2,2, figsize=(10,10))\n",
    "    fig.suptitle(\"Learning curve for models\")\n",
    "    axs = axs.reshape(-1)\n",
    "    \n",
    "    for i in range(4):\n",
    "        \n",
    "        title = titles[i]\n",
    "        axs[i].set_title(title)\n",
    "        \n",
    "        for j in range(n):\n",
    "            axs[i].plot([d[\"Epoch\"] for d in models[j].history], \n",
    "                            [d[title] for d in models[j].history], \n",
    "                            c=colors[j], \n",
    "                            label=model_names[j])\n",
    "            \n",
    "        axs[i].legend()\n",
    "        \n",
    "    plt.show()"
   ]
  },
  {
   "cell_type": "code",
   "execution_count": 17,
   "metadata": {
    "colab": {
     "base_uri": "https://localhost:8080/",
     "height": 663
    },
    "executionInfo": {
     "elapsed": 2408,
     "status": "ok",
     "timestamp": 1619270830142,
     "user": {
      "displayName": "Bokil Sujay Girish me17b120",
      "photoUrl": "",
      "userId": "04526647828027613798"
     },
     "user_tz": -330
    },
    "id": "Em2XjCg_h1Qb",
    "outputId": "3e7d71cc-322c-405f-ad2b-4a03b1630696"
   },
   "outputs": [
    {
     "data": {
      "image/png": "[encoded data removed]",
      "text/plain": [
       "<Figure size 720x720 with 4 Axes>"
      ]
     },
     "metadata": {
      "needs_background": "light"
     },
     "output_type": "display_data"
    }
   ],
   "source": [
    "## Comparision of the configurations ##\n",
    "compare_models_plot(models)"
   ]
  },
  {
   "cell_type": "markdown",
   "metadata": {
    "id": "3fTz21bBh1Qc"
   },
   "source": [
    "<p style=\"text-align: center\">THE END<p>"
   ]
  }
 ],
 "metadata": {
  "accelerator": "GPU",
  "colab": {
   "name": "assignment2-bt3041.ipynb",
   "provenance": [],
   "toc_visible": true
  },
  "kernelspec": {
   "display_name": "Python 3",
   "language": "python",
   "name": "python3"
  },
  "language_info": {
   "codemirror_mode": {
    "name": "ipython",
    "version": 3
   },
   "file_extension": ".py",
   "mimetype": "text/x-python",
   "name": "python",
   "nbconvert_exporter": "python",
   "pygments_lexer": "ipython3",
   "version": "3.8.5"
  },
  "metadata": {
   "interpreter": {
    "hash": "5522738d40babb9c768336fdb9237d6cf3809fcc3ab10607c134036db240b616"
   }
  }
 },
 "nbformat": 4,
 "nbformat_minor": 5
}
